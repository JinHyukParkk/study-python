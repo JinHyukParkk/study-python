{
 "cells": [
  {
   "cell_type": "code",
   "outputs": [
    {
     "name": "stdout",
     "output_type": "stream",
     "text": [
      "[1, 2, 3]\n",
      "<class 'list'>\n"
     ]
    }
   ],
   "source": [
    "import ast\n",
    "\n",
    "list_in_str = '[1, 2, 3]'\n",
    "list_data = ast.literal_eval(list_in_str)\n",
    "print(list_data)\n",
    "print(type(list_data))\n"
   ],
   "metadata": {
    "collapsed": false,
    "ExecuteTime": {
     "end_time": "2024-01-09T14:39:51.746574Z",
     "start_time": "2024-01-09T14:39:51.738633Z"
    }
   },
   "id": "193e9ee48ddee651",
   "execution_count": 1
  },
  {
   "cell_type": "code",
   "outputs": [
    {
     "name": "stdout",
     "output_type": "stream",
     "text": [
      "{'a': 1, 'b': 2}\n",
      "1\n",
      "<class 'dict'>\n"
     ]
    }
   ],
   "source": [
    "import ast\n",
    "\n",
    "dict_in_str = \"{'a': 1, 'b': 2}\"\n",
    "dict_data = ast.literal_eval(dict_in_str)\n",
    "print(dict_data)\n",
    "print(dict_data['a'])\n",
    "print(type(dict_data))"
   ],
   "metadata": {
    "collapsed": false,
    "ExecuteTime": {
     "end_time": "2024-01-09T14:42:44.620768Z",
     "start_time": "2024-01-09T14:42:44.614624Z"
    }
   },
   "id": "6eabbe4452383574",
   "execution_count": 4
  }
 ],
 "metadata": {
  "kernelspec": {
   "display_name": "Python 3",
   "language": "python",
   "name": "python3"
  },
  "language_info": {
   "codemirror_mode": {
    "name": "ipython",
    "version": 2
   },
   "file_extension": ".py",
   "mimetype": "text/x-python",
   "name": "python",
   "nbconvert_exporter": "python",
   "pygments_lexer": "ipython2",
   "version": "2.7.6"
  }
 },
 "nbformat": 4,
 "nbformat_minor": 5
}
